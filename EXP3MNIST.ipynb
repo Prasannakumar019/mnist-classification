{
  "cells": [
    {
      "cell_type": "code",
      "execution_count": 1,
      "metadata": {
        "id": "aOMTTyu_9SSw"
      },
      "outputs": [],
      "source": [
        "import tensorflow as tf\n",
        "from tensorflow.keras.models import Sequential\n",
        "from tensorflow.keras.layers import Conv2D\n",
        "from tensorflow.keras.layers import MaxPool2D\n",
        "from tensorflow.keras.layers import Dense\n",
        "from tensorflow.keras import layers\n",
        "from tensorflow.keras.datasets import mnist\n",
        "import matplotlib.pyplot as plt\n",
        "from tensorflow.keras import utils\n",
        "import pandas as pd\n",
        "import numpy as np\n",
        "from sklearn.metrics import classification_report,confusion_matrix\n",
        "from tensorflow.keras.preprocessing import image"
      ]
    },
    {
      "cell_type": "code",
      "execution_count": 2,
      "metadata": {
        "colab": {
          "base_uri": "https://localhost:8080/"
        },
        "id": "RixqQkva_VWn",
        "outputId": "03825302-bf47-47b9-a0cb-107085629c9c"
      },
      "outputs": [
        {
          "output_type": "stream",
          "name": "stdout",
          "text": [
            "Downloading data from https://storage.googleapis.com/tensorflow/tf-keras-datasets/mnist.npz\n",
            "11493376/11490434 [==============================] - 0s 0us/step\n",
            "11501568/11490434 [==============================] - 0s 0us/step\n"
          ]
        }
      ],
      "source": [
        "(x_train,y_train),(x_test,y_test)=mnist.load_data()"
      ]
    },
    {
      "cell_type": "code",
      "execution_count": 3,
      "metadata": {
        "colab": {
          "base_uri": "https://localhost:8080/",
          "height": 282
        },
        "id": "-Jg8wjo2FRF9",
        "outputId": "2c01a9bd-0181-4b1f-d961-ec399651f9da"
      },
      "outputs": [
        {
          "output_type": "execute_result",
          "data": {
            "text/plain": [
              "<matplotlib.image.AxesImage at 0x7f4a931cafd0>"
            ]
          },
          "metadata": {},
          "execution_count": 3
        },
        {
          "output_type": "display_data",
          "data": {
            "text/plain": [
              "<Figure size 432x288 with 1 Axes>"
            ],
            "image/png": "[encoded data removed]"
          },
          "metadata": {
            "needs_background": "light"
          }
        }
      ],
      "source": [
        "plt.imshow(x_train[0],cmap='gray')"
      ]
    },
    {
      "cell_type": "code",
      "execution_count": 4,
      "metadata": {
        "id": "_kPp_niUF56E"
      },
      "outputs": [],
      "source": [
        "x_train_scaled=x_train/255\n",
        "x_test_scaled=x_test/255"
      ]
    },
    {
      "cell_type": "code",
      "execution_count": 5,
      "metadata": {
        "colab": {
          "base_uri": "https://localhost:8080/"
        },
        "id": "glps9L_fGI3r",
        "outputId": "fa33cda2-19d4-4c0d-ec76-c091c89da537"
      },
      "outputs": [
        {
          "output_type": "stream",
          "name": "stdout",
          "text": [
            "0.0\n"
          ]
        },
        {
          "output_type": "execute_result",
          "data": {
            "text/plain": [
              "1.0"
            ]
          },
          "metadata": {},
          "execution_count": 5
        }
      ],
      "source": [
        "print(x_train_scaled.min())\n",
        "x_train_scaled.max()"
      ]
    },
    {
      "cell_type": "code",
      "execution_count": 6,
      "metadata": {
        "id": "uoCrVopSGM8b"
      },
      "outputs": [],
      "source": [
        "y_train_onehot = utils.to_categorical(y_train,10)\n",
        "y_test_onehot = utils.to_categorical(y_test,10)"
      ]
    },
    {
      "cell_type": "code",
      "execution_count": 7,
      "metadata": {
        "id": "sRSwT8_WFMw8"
      },
      "outputs": [],
      "source": [
        "x_train_scaled = x_train_scaled.reshape(-1,28,28,1)\n",
        "x_test_scaled = x_test_scaled.reshape(-1,28,28,1)"
      ]
    },
    {
      "cell_type": "code",
      "execution_count": 8,
      "metadata": {
        "id": "ELjWZwKT9dIG"
      },
      "outputs": [],
      "source": [
        "model=Sequential([layers.Input(shape=(28,28,1)),\n",
        "                  Conv2D(filters=32,kernel_size=(5,5),strides=(1,1),padding='valid',activation='relu'),\n",
        "                  MaxPool2D(pool_size=(2,2)),\n",
        "                  Conv2D(filters=64,kernel_size=(5,5),strides=(1,1),padding='same',activation='relu'),\n",
        "                  MaxPool2D(pool_size=(2,2)),\n",
        "                  layers.Flatten(),\n",
        "                  Dense(8,activation='relu'),\n",
        "                  Dense(10,activation='softmax')\n",
        "                  ])"
      ]
    },
    {
      "cell_type": "code",
      "execution_count": 9,
      "metadata": {
        "colab": {
          "base_uri": "https://localhost:8080/"
        },
        "id": "1tRmXw0u-ndf",
        "outputId": "db455108-d6c9-45c8-94e0-51b63ea7df49"
      },
      "outputs": [
        {
          "output_type": "stream",
          "name": "stdout",
          "text": [
            "Model: \"sequential\"\n",
            "_________________________________________________________________\n",
            " Layer (type)                Output Shape              Param #   \n",
            "=================================================================\n",
            " conv2d (Conv2D)             (None, 24, 24, 32)        832       \n",
            "                                                                 \n",
            " max_pooling2d (MaxPooling2D  (None, 12, 12, 32)       0         \n",
            " )                                                               \n",
            "                                                                 \n",
            " conv2d_1 (Conv2D)           (None, 12, 12, 64)        51264     \n",
            "                                                                 \n",
            " max_pooling2d_1 (MaxPooling  (None, 6, 6, 64)         0         \n",
            " 2D)                                                             \n",
            "                                                                 \n",
            " flatten (Flatten)           (None, 2304)              0         \n",
            "                                                                 \n",
            " dense (Dense)               (None, 8)                 18440     \n",
            "                                                                 \n",
            " dense_1 (Dense)             (None, 10)                90        \n",
            "                                                                 \n",
            "=================================================================\n",
            "Total params: 70,626\n",
            "Trainable params: 70,626\n",
            "Non-trainable params: 0\n",
            "_________________________________________________________________\n"
          ]
        }
      ],
      "source": [
        "model.summary()"
      ]
    },
    {
      "cell_type": "code",
      "execution_count": 10,
      "metadata": {
        "id": "StQvTKfkG7l0"
      },
      "outputs": [],
      "source": [
        "model.compile(optimizer='Adam',\n",
        "                 loss='categorical_crossentropy',\n",
        "                 metrics=['accuracy'])"
      ]
    },
    {
      "cell_type": "code",
      "execution_count": 11,
      "metadata": {
        "colab": {
          "base_uri": "https://localhost:8080/"
        },
        "id": "hFKgtM76HM68",
        "outputId": "3fde057d-fca9-4dd7-f884-fe977dd1db19"
      },
      "outputs": [
        {
          "output_type": "stream",
          "name": "stdout",
          "text": [
            "Epoch 1/15\n",
            "235/235 [==============================] - 14s 9ms/step - loss: 0.6063 - accuracy: 0.7950 - val_loss: 0.1274 - val_accuracy: 0.9639\n",
            "Epoch 2/15\n",
            "235/235 [==============================] - 2s 7ms/step - loss: 0.1055 - accuracy: 0.9700 - val_loss: 0.0738 - val_accuracy: 0.9773\n",
            "Epoch 3/15\n",
            "235/235 [==============================] - 2s 7ms/step - loss: 0.0724 - accuracy: 0.9782 - val_loss: 0.0697 - val_accuracy: 0.9793\n",
            "Epoch 4/15\n",
            "235/235 [==============================] - 2s 8ms/step - loss: 0.0559 - accuracy: 0.9833 - val_loss: 0.0477 - val_accuracy: 0.9840\n",
            "Epoch 5/15\n",
            "235/235 [==============================] - 2s 7ms/step - loss: 0.0472 - accuracy: 0.9855 - val_loss: 0.0464 - val_accuracy: 0.9856\n",
            "Epoch 6/15\n",
            "235/235 [==============================] - 2s 7ms/step - loss: 0.0398 - accuracy: 0.9878 - val_loss: 0.0435 - val_accuracy: 0.9860\n",
            "Epoch 7/15\n",
            "235/235 [==============================] - 2s 7ms/step - loss: 0.0343 - accuracy: 0.9894 - val_loss: 0.0359 - val_accuracy: 0.9873\n",
            "Epoch 8/15\n",
            "235/235 [==============================] - 2s 10ms/step - loss: 0.0304 - accuracy: 0.9909 - val_loss: 0.0417 - val_accuracy: 0.9870\n",
            "Epoch 9/15\n",
            "235/235 [==============================] - 2s 9ms/step - loss: 0.0259 - accuracy: 0.9916 - val_loss: 0.0403 - val_accuracy: 0.9875\n",
            "Epoch 10/15\n",
            "235/235 [==============================] - 2s 7ms/step - loss: 0.0227 - accuracy: 0.9925 - val_loss: 0.0399 - val_accuracy: 0.9875\n",
            "Epoch 11/15\n",
            "235/235 [==============================] - 2s 7ms/step - loss: 0.0198 - accuracy: 0.9938 - val_loss: 0.0361 - val_accuracy: 0.9891\n",
            "Epoch 12/15\n",
            "235/235 [==============================] - 2s 8ms/step - loss: 0.0165 - accuracy: 0.9952 - val_loss: 0.0432 - val_accuracy: 0.9875\n",
            "Epoch 13/15\n",
            "235/235 [==============================] - 2s 7ms/step - loss: 0.0158 - accuracy: 0.9949 - val_loss: 0.0369 - val_accuracy: 0.9894\n",
            "Epoch 14/15\n",
            "235/235 [==============================] - 2s 7ms/step - loss: 0.0145 - accuracy: 0.9955 - val_loss: 0.0329 - val_accuracy: 0.9907\n",
            "Epoch 15/15\n",
            "235/235 [==============================] - 2s 7ms/step - loss: 0.0121 - accuracy: 0.9962 - val_loss: 0.0373 - val_accuracy: 0.9892\n"
          ]
        },
        {
          "output_type": "execute_result",
          "data": {
            "text/plain": [
              "<keras.callbacks.History at 0x7f4a803e3d90>"
            ]
          },
          "metadata": {},
          "execution_count": 11
        }
      ],
      "source": [
        "\n",
        "model.fit(x_train_scaled ,y_train_onehot, epochs=15,\n",
        "          batch_size=256, \n",
        "          validation_data=(x_test_scaled,y_test_onehot))"
      ]
    },
    {
      "cell_type": "code",
      "execution_count": 12,
      "metadata": {
        "id": "Whw7n-zSHl5E"
      },
      "outputs": [],
      "source": [
        "metrics = pd.DataFrame(model.history.history)"
      ]
    },
    {
      "cell_type": "code",
      "execution_count": 13,
      "metadata": {
        "colab": {
          "base_uri": "https://localhost:8080/",
          "height": 282
        },
        "id": "huuGFq_2KNEt",
        "outputId": "42c65d87-4421-4bef-f614-287f5b90c2fd"
      },
      "outputs": [
        {
          "output_type": "execute_result",
          "data": {
            "text/plain": [
              "<matplotlib.axes._subplots.AxesSubplot at 0x7f4a80373150>"
            ]
          },
          "metadata": {},
          "execution_count": 13
        },
        {
          "output_type": "display_data",
          "data": {
            "text/plain": [
              "<Figure size 432x288 with 1 Axes>"
            ],
            "image/png": "[encoded data removed]"
          },
          "metadata": {
            "needs_background": "light"
          }
        }
      ],
      "source": [
        "metrics[['accuracy','val_accuracy']].plot()"
      ]
    },
    {
      "cell_type": "code",
      "execution_count": 14,
      "metadata": {
        "colab": {
          "base_uri": "https://localhost:8080/",
          "height": 282
        },
        "id": "7_xNQs8oLkI8",
        "outputId": "4f885e9b-7c0b-468e-97b4-bb0cdde6432a"
      },
      "outputs": [
        {
          "output_type": "execute_result",
          "data": {
            "text/plain": [
              "<matplotlib.axes._subplots.AxesSubplot at 0x7f4a167a2910>"
            ]
          },
          "metadata": {},
          "execution_count": 14
        },
        {
          "output_type": "display_data",
          "data": {
            "text/plain": [
              "<Figure size 432x288 with 1 Axes>"
            ],
            "image/png": "[encoded data removed]"
          },
          "metadata": {
            "needs_background": "light"
          }
        }
      ],
      "source": [
        "metrics[['loss','val_loss']].plot()\n"
      ]
    },
    {
      "cell_type": "code",
      "execution_count": 15,
      "metadata": {
        "id": "AbWgeTPILl5k"
      },
      "outputs": [],
      "source": [
        "x_test_predictions = np.argmax(model.predict(x_test_scaled), axis=1)\n"
      ]
    },
    {
      "cell_type": "code",
      "execution_count": 16,
      "metadata": {
        "colab": {
          "base_uri": "https://localhost:8080/"
        },
        "id": "E3ybsrvzLysk",
        "outputId": "94219b7a-9221-4355-c0cf-094100add65d"
      },
      "outputs": [
        {
          "output_type": "stream",
          "name": "stdout",
          "text": [
            "[[ 977    0    0    0    0    1    0    0    1    1]\n",
            " [   0 1135    0    0    0    0    0    0    0    0]\n",
            " [   2    2 1026    0    0    0    0    2    0    0]\n",
            " [   0    1    4  993    0    5    0    0    3    4]\n",
            " [   0    1    0    0  969    1    4    0    0    7]\n",
            " [   2    0    1    5    0  880    2    0    0    2]\n",
            " [   8    2    1    0    1    3  943    0    0    0]\n",
            " [   0    2    6    0    0    0    0 1011    1    8]\n",
            " [   7    0    3    0    3    1    1    1  955    3]\n",
            " [   0    0    0    0    4    1    0    1    0 1003]]\n"
          ]
        }
      ],
      "source": [
        "print(confusion_matrix(y_test,x_test_predictions))"
      ]
    },
    {
      "cell_type": "code",
      "execution_count": 17,
      "metadata": {
        "colab": {
          "base_uri": "https://localhost:8080/"
        },
        "id": "6nCSS4JWMKJE",
        "outputId": "63aeb7d4-d846-4a57-a0a8-cef72d0eb3d8"
      },
      "outputs": [
        {
          "output_type": "stream",
          "name": "stdout",
          "text": [
            "              precision    recall  f1-score   support\n",
            "\n",
            "           0       0.98      1.00      0.99       980\n",
            "           1       0.99      1.00      1.00      1135\n",
            "           2       0.99      0.99      0.99      1032\n",
            "           3       0.99      0.98      0.99      1010\n",
            "           4       0.99      0.99      0.99       982\n",
            "           5       0.99      0.99      0.99       892\n",
            "           6       0.99      0.98      0.99       958\n",
            "           7       1.00      0.98      0.99      1028\n",
            "           8       0.99      0.98      0.99       974\n",
            "           9       0.98      0.99      0.98      1009\n",
            "\n",
            "    accuracy                           0.99     10000\n",
            "   macro avg       0.99      0.99      0.99     10000\n",
            "weighted avg       0.99      0.99      0.99     10000\n",
            "\n"
          ]
        }
      ],
      "source": [
        "print(classification_report(y_test,x_test_predictions))\n"
      ]
    },
    {
      "cell_type": "code",
      "execution_count": 20,
      "metadata": {
        "id": "7y_IeuFjMWxj"
      },
      "outputs": [],
      "source": [
        "img = image.load_img('img.png')"
      ]
    },
    {
      "cell_type": "code",
      "execution_count": 21,
      "metadata": {
        "id": "_bo49vEBNNcC"
      },
      "outputs": [],
      "source": [
        "img_tensor = tf.convert_to_tensor(np.asarray(img))\n",
        "img_28 = tf.image.resize(img_tensor,(28,28))\n",
        "img_28_gray = tf.image.rgb_to_grayscale(img_28)\n",
        "img_28_gray_scaled = img_28_gray.numpy()/255.0"
      ]
    },
    {
      "cell_type": "code",
      "execution_count": 22,
      "metadata": {
        "colab": {
          "base_uri": "https://localhost:8080/",
          "height": 282
        },
        "id": "f4wiu6giNisU",
        "outputId": "a409f9d6-fb44-4faa-9219-7bee8cad5c37"
      },
      "outputs": [
        {
          "output_type": "execute_result",
          "data": {
            "text/plain": [
              "<matplotlib.image.AxesImage at 0x7f4a165207d0>"
            ]
          },
          "metadata": {},
          "execution_count": 22
        },
        {
          "output_type": "display_data",
          "data": {
            "text/plain": [
              "<Figure size 432x288 with 1 Axes>"
            ],
            "image/png": "[encoded data removed]"
          },
          "metadata": {
            "needs_background": "light"
          }
        }
      ],
      "source": [
        "plt.imshow(img_28_gray_scaled.reshape(28,28),cmap='gray')"
      ]
    },
    {
      "cell_type": "code",
      "execution_count": 23,
      "metadata": {
        "colab": {
          "base_uri": "https://localhost:8080/"
        },
        "id": "QgrYtzaqNduM",
        "outputId": "50fa6ab3-5201-4104-a1ef-681f225c122b"
      },
      "outputs": [
        {
          "output_type": "execute_result",
          "data": {
            "text/plain": [
              "array([4])"
            ]
          },
          "metadata": {},
          "execution_count": 23
        }
      ],
      "source": [
        "np.argmax(model.predict(img_28_gray_scaled.reshape(1,28,28,1)),axis=1)"
      ]
    },
    {
      "cell_type": "code",
      "execution_count": 23,
      "metadata": {
        "id": "9EsPCx_Of2UB"
      },
      "outputs": [],
      "source": []
    }
  ],
  "metadata": {
    "accelerator": "GPU",
    "colab": {
      "collapsed_sections": [],
      "provenance": []
    },
    "gpuClass": "standard",
    "kernelspec": {
      "display_name": "Python 3.10.7 64-bit (microsoft store)",
      "language": "python",
      "name": "python3"
    },
    "language_info": {
      "codemirror_mode": {
        "name": "ipython",
        "version": 3
      },
      "file_extension": ".py",
      "mimetype": "text/x-python",
      "name": "python",
      "nbconvert_exporter": "python",
      "pygments_lexer": "ipython3",
      "version": "3.10.7"
    },
    "vscode": {
      "interpreter": {
        "hash": "4bff705619cf08da0cee86ea519efec4ddd5337cf594feb5a48a7054c9873b13"
      }
    }
  },
  "nbformat": 4,
  "nbformat_minor": 0
}